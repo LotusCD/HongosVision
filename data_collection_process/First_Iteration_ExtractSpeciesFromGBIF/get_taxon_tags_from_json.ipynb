{
 "cells": [
  {
   "cell_type": "code",
   "execution_count": 5,
   "metadata": {},
   "outputs": [
    {
     "name": "stdout",
     "output_type": "stream",
     "text": [
      "Extracted 3867 unique species and saved to 'unique_species_taxonomy.json'\n"
     ]
    }
   ],
   "source": [
    "import json\n",
    "\n",
    "# Load the JSON data\n",
    "with open(\"all_data_colombia.json\", \"r\") as file:\n",
    "    data = json.load(file)\n",
    "\n",
    "# Assuming the data is a list of records\n",
    "data_to_process = data\n",
    "\n",
    "# Dictionary to store unique species and their associated taxonomy\n",
    "unique_species_adjusted = {}\n",
    "\n",
    "# Iterate over the data to extract species and taxonomy\n",
    "for record in data_to_process:\n",
    "    species = record.get('species')\n",
    "    if species and species not in unique_species_adjusted:\n",
    "        unique_species_adjusted[species] = {\n",
    "            \"family\": record.get('family'),\n",
    "            \"genus\": record.get('genus'),\n",
    "            \"order\": record.get('order'),\n",
    "            \"phylum\": record.get('phylum'),\n",
    "            \"class\": record.get('class'),\n",
    "            \"kingdom\": record.get('kingdom')\n",
    "        }\n",
    "\n",
    "# Save the unique species and their taxonomy to a JSON file\n",
    "with open(\"unique_species_taxonomy.json\", \"w\") as outfile:\n",
    "    json.dump(unique_species_adjusted, outfile, indent=4)\n",
    "\n",
    "print(f\"Extracted {len(unique_species_adjusted)} unique species and saved to 'unique_species_taxonomy.json'\")\n"
   ]
  }
 ],
 "metadata": {
  "kernelspec": {
   "display_name": "base",
   "language": "python",
   "name": "python3"
  },
  "language_info": {
   "codemirror_mode": {
    "name": "ipython",
    "version": 3
   },
   "file_extension": ".py",
   "mimetype": "text/x-python",
   "name": "python",
   "nbconvert_exporter": "python",
   "pygments_lexer": "ipython3",
   "version": "3.11.4"
  },
  "orig_nbformat": 4
 },
 "nbformat": 4,
 "nbformat_minor": 2
}

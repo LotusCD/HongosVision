{
 "cells": [
  {
   "cell_type": "code",
   "execution_count": 4,
   "metadata": {},
   "outputs": [],
   "source": [
    "import json\n",
    "\n",
    "# Load the JSON file\n",
    "with open(\"unique_species_taxonomy.json\", \"r\") as file:\n",
    "    data = json.load(file)\n",
    "\n",
    "# List of genus names to filter\n",
    "genus_names = [\n",
    "    \"Amanita\", \"Psilocybe\", \"Coprinellus\", \"Clathrus\", \"Cookeina\", \"Marasmius\",\n",
    "    \"Panaeolus\", \"Hymenoscyphus\", \"Schizophyllum\", \"Lentinus\", \"Trogia\",\n",
    "    \"Leucocoprinus\", \"Lachnum\", \"Phallus\", \"Orbilia\", \"Stictis\", \"Dasyscyphus\",\n",
    "    \"Bisporella\", \"Coprinus\", \"Herpothallon\", \"Leratiomyces\", \"Calostoma\",\n",
    "    \"Xylaria\", \"Macrolepiota\", \"Auricularia\", \"Nectria\", \"Cerrena\", \"Tremella\",\n",
    "    \"Lambertella\", \"Dacrymyces\", \"Trametes\", \"Rhodocollybia\", \"Gymnopus\",\n",
    "    \"Mycena\", \"Coccomyces\", \"Macrocybe\", \"Marasmiellus\", \"Stereum\", \"Ganoderma\",\n",
    "    \"Cortinarius\"\n",
    "]\n",
    "\n",
    "# Filter the data based on the genus names\n",
    "filtered_data_genus = {key: value for key, value in data.items() if value.get(\"genus\") in genus_names}\n",
    "\n",
    "# Save the filtered data to a new JSON file\n",
    "with open(\"filtered_species_taxonomy_genus.json\", \"w\") as file:\n",
    "    json.dump(filtered_data_genus, file, indent=4)\n"
   ]
  }
 ],
 "metadata": {
  "kernelspec": {
   "display_name": "base",
   "language": "python",
   "name": "python3"
  },
  "language_info": {
   "codemirror_mode": {
    "name": "ipython",
    "version": 3
   },
   "file_extension": ".py",
   "mimetype": "text/x-python",
   "name": "python",
   "nbconvert_exporter": "python",
   "pygments_lexer": "ipython3",
   "version": "3.11.4"
  },
  "orig_nbformat": 4
 },
 "nbformat": 4,
 "nbformat_minor": 2
}

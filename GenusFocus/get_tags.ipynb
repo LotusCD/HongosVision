{
 "cells": [
  {
   "cell_type": "code",
   "execution_count": 2,
   "metadata": {},
   "outputs": [
    {
     "name": "stdout",
     "output_type": "stream",
     "text": [
      "Extracted 68 unique genera and saved to 'unique_genera_taxonomy.json'\n"
     ]
    }
   ],
   "source": [
    "import json\n",
    "\n",
    "# Load the JSON data\n",
    "with open(\"all_data_colombia copy.json\", \"r\") as file:\n",
    "    data = json.load(file)\n",
    "\n",
    "# Assuming the data is a list of records\n",
    "data_to_process = data\n",
    "\n",
    "# Dictionary to store unique genera and their associated taxonomy\n",
    "unique_genera = {}\n",
    "\n",
    "# Iterate over the data to extract genus and taxonomy\n",
    "for record in data_to_process:\n",
    "    genus = record.get('genus')\n",
    "    if genus and genus not in unique_genera:\n",
    "        unique_genera[genus] = {\n",
    "            \"family\": record.get('family'),\n",
    "            \"order\": record.get('order'),\n",
    "            \"phylum\": record.get('phylum'),\n",
    "            \"class\": record.get('class'),\n",
    "            \"kingdom\": record.get('kingdom')\n",
    "        }\n",
    "\n",
    "# Save the unique genera and their taxonomy to a JSON file\n",
    "with open(\"unique_genera_taxonomy.json\", \"w\") as outfile:\n",
    "    json.dump(unique_genera, outfile, indent=4)\n",
    "\n",
    "print(f\"Extracted {len(unique_genera)} unique genera and saved to 'unique_genera_taxonomy.json'\")\n"
   ]
  }
 ],
 "metadata": {
  "kernelspec": {
   "display_name": "base",
   "language": "python",
   "name": "python3"
  },
  "language_info": {
   "codemirror_mode": {
    "name": "ipython",
    "version": 3
   },
   "file_extension": ".py",
   "mimetype": "text/x-python",
   "name": "python",
   "nbconvert_exporter": "python",
   "pygments_lexer": "ipython3",
   "version": "3.11.4"
  },
  "orig_nbformat": 4
 },
 "nbformat": 4,
 "nbformat_minor": 2
}

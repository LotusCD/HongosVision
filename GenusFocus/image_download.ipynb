{
 "cells": [
  {
   "cell_type": "code",
   "execution_count": 1,
   "metadata": {},
   "outputs": [
    {
     "name": "stdout",
     "output_type": "stream",
     "text": [
      "Images downloaded and metadata files created!\n"
     ]
    }
   ],
   "source": [
    "import os\n",
    "import json\n",
    "import requests\n",
    "from concurrent.futures import ThreadPoolExecutor\n",
    "\n",
    "def download_image(genus_dir, media, record, metadata):\n",
    "    image_url = media.get('identifier')\n",
    "    if image_url:\n",
    "        response = requests.get(image_url, stream=True)\n",
    "        if response.status_code == 200:\n",
    "            image_name = os.path.basename(image_url.split('/')[-1]) + \".jpg\"  # Extract the image name from the URL\n",
    "            image_path = os.path.join(genus_dir, image_name)\n",
    "            with open(image_path, 'wb') as img_file:\n",
    "                for chunk in response.iter_content(1024):\n",
    "                    img_file.write(chunk)\n",
    "            \n",
    "            # Add entry to metadata\n",
    "            metadata[image_name] = {\n",
    "                \"family\": record.get('family', \"\"),\n",
    "                \"genus\": record.get('genus', \"\"),\n",
    "                \"species\": record.get('species', \"\"),\n",
    "                \"order\": record.get('order', \"\"),\n",
    "                \"phylum\": record.get('phylum', \"\"),\n",
    "                \"class\": record.get('class', \"\"),\n",
    "                \"kingdom\": record.get('kingdom', \"\")\n",
    "            }\n",
    "\n",
    "# Load the JSON data\n",
    "with open(\"all_data_colombia copy.json\", \"r\") as file:\n",
    "    data = json.load(file)\n",
    "\n",
    "# Assuming the root of the JSON is a list of records\n",
    "data_to_process = data\n",
    "\n",
    "# Create a root directory for all images if it doesn't exist\n",
    "if not os.path.exists('fungi_images'):\n",
    "    os.mkdir('fungi_images')\n",
    "\n",
    "# Use ThreadPoolExecutor for parallel downloads\n",
    "with ThreadPoolExecutor(max_workers=10) as executor:\n",
    "    # Iterate over each record in the data\n",
    "    for record in data_to_process:\n",
    "        genus_name = record.get('genus', \"unknown_genus\").replace(\" \", \"_\")  # Replace spaces with underscores\n",
    "        media_entries = record.get('media', [])\n",
    "        \n",
    "        # Create a directory for the genus if it doesn't exist\n",
    "        genus_dir = os.path.join('fungi_images', genus_name)\n",
    "        if not os.path.exists(genus_dir):\n",
    "            os.mkdir(genus_dir)\n",
    "        \n",
    "        # Metadata dictionary for the genus\n",
    "        metadata = {}\n",
    "        \n",
    "        # Parallel download of images\n",
    "        futures = [executor.submit(download_image, genus_dir, media, record, metadata) for media in media_entries]\n",
    "        for future in futures:\n",
    "            future.result()\n",
    "        \n",
    "        # Save metadata to JSON file\n",
    "        with open(os.path.join(genus_dir, \"metadata.json\"), \"w\") as meta_file:\n",
    "            json.dump(metadata, meta_file, indent=4)\n",
    "\n",
    "print(\"Images downloaded and metadata files created!\")\n"
   ]
  }
 ],
 "metadata": {
  "kernelspec": {
   "display_name": "base",
   "language": "python",
   "name": "python3"
  },
  "language_info": {
   "codemirror_mode": {
    "name": "ipython",
    "version": 3
   },
   "file_extension": ".py",
   "mimetype": "text/x-python",
   "name": "python",
   "nbconvert_exporter": "python",
   "pygments_lexer": "ipython3",
   "version": "3.11.4"
  },
  "orig_nbformat": 4
 },
 "nbformat": 4,
 "nbformat_minor": 2
}

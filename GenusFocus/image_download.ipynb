{
 "cells": [
  {
   "cell_type": "code",
   "execution_count": 1,
   "metadata": {},
   "outputs": [
    {
     "ename": "OSError",
     "evalue": "[Errno 22] Invalid argument: 'fungi_images\\\\Trametes\\\\web_hent_bilde.php?id=14003513&type=jpeg.jpg'",
     "output_type": "error",
     "traceback": [
      "\u001b[1;31m---------------------------------------------------------------------------\u001b[0m",
      "\u001b[1;31mOSError\u001b[0m                                   Traceback (most recent call last)",
      "Cell \u001b[1;32mIn[1], line 57\u001b[0m\n\u001b[0;32m     55\u001b[0m futures \u001b[39m=\u001b[39m [executor\u001b[39m.\u001b[39msubmit(download_image, genus_dir, media, record, metadata) \u001b[39mfor\u001b[39;00m media \u001b[39min\u001b[39;00m media_entries]\n\u001b[0;32m     56\u001b[0m \u001b[39mfor\u001b[39;00m future \u001b[39min\u001b[39;00m futures:\n\u001b[1;32m---> 57\u001b[0m     future\u001b[39m.\u001b[39mresult()\n\u001b[0;32m     59\u001b[0m \u001b[39m# Save metadata to JSON file\u001b[39;00m\n\u001b[0;32m     60\u001b[0m \u001b[39mwith\u001b[39;00m \u001b[39mopen\u001b[39m(os\u001b[39m.\u001b[39mpath\u001b[39m.\u001b[39mjoin(genus_dir, \u001b[39m\"\u001b[39m\u001b[39mmetadata.json\u001b[39m\u001b[39m\"\u001b[39m), \u001b[39m\"\u001b[39m\u001b[39mw\u001b[39m\u001b[39m\"\u001b[39m) \u001b[39mas\u001b[39;00m meta_file:\n",
      "File \u001b[1;32mc:\\Users\\newHope\\anaconda3\\Lib\\concurrent\\futures\\_base.py:456\u001b[0m, in \u001b[0;36mFuture.result\u001b[1;34m(self, timeout)\u001b[0m\n\u001b[0;32m    454\u001b[0m     \u001b[39mraise\u001b[39;00m CancelledError()\n\u001b[0;32m    455\u001b[0m \u001b[39melif\u001b[39;00m \u001b[39mself\u001b[39m\u001b[39m.\u001b[39m_state \u001b[39m==\u001b[39m FINISHED:\n\u001b[1;32m--> 456\u001b[0m     \u001b[39mreturn\u001b[39;00m \u001b[39mself\u001b[39m\u001b[39m.\u001b[39m__get_result()\n\u001b[0;32m    457\u001b[0m \u001b[39melse\u001b[39;00m:\n\u001b[0;32m    458\u001b[0m     \u001b[39mraise\u001b[39;00m \u001b[39mTimeoutError\u001b[39;00m()\n",
      "File \u001b[1;32mc:\\Users\\newHope\\anaconda3\\Lib\\concurrent\\futures\\_base.py:401\u001b[0m, in \u001b[0;36mFuture.__get_result\u001b[1;34m(self)\u001b[0m\n\u001b[0;32m    399\u001b[0m \u001b[39mif\u001b[39;00m \u001b[39mself\u001b[39m\u001b[39m.\u001b[39m_exception:\n\u001b[0;32m    400\u001b[0m     \u001b[39mtry\u001b[39;00m:\n\u001b[1;32m--> 401\u001b[0m         \u001b[39mraise\u001b[39;00m \u001b[39mself\u001b[39m\u001b[39m.\u001b[39m_exception\n\u001b[0;32m    402\u001b[0m     \u001b[39mfinally\u001b[39;00m:\n\u001b[0;32m    403\u001b[0m         \u001b[39m# Break a reference cycle with the exception in self._exception\u001b[39;00m\n\u001b[0;32m    404\u001b[0m         \u001b[39mself\u001b[39m \u001b[39m=\u001b[39m \u001b[39mNone\u001b[39;00m\n",
      "File \u001b[1;32mc:\\Users\\newHope\\anaconda3\\Lib\\concurrent\\futures\\thread.py:58\u001b[0m, in \u001b[0;36m_WorkItem.run\u001b[1;34m(self)\u001b[0m\n\u001b[0;32m     55\u001b[0m     \u001b[39mreturn\u001b[39;00m\n\u001b[0;32m     57\u001b[0m \u001b[39mtry\u001b[39;00m:\n\u001b[1;32m---> 58\u001b[0m     result \u001b[39m=\u001b[39m \u001b[39mself\u001b[39m\u001b[39m.\u001b[39mfn(\u001b[39m*\u001b[39m\u001b[39mself\u001b[39m\u001b[39m.\u001b[39margs, \u001b[39m*\u001b[39m\u001b[39m*\u001b[39m\u001b[39mself\u001b[39m\u001b[39m.\u001b[39mkwargs)\n\u001b[0;32m     59\u001b[0m \u001b[39mexcept\u001b[39;00m \u001b[39mBaseException\u001b[39;00m \u001b[39mas\u001b[39;00m exc:\n\u001b[0;32m     60\u001b[0m     \u001b[39mself\u001b[39m\u001b[39m.\u001b[39mfuture\u001b[39m.\u001b[39mset_exception(exc)\n",
      "Cell \u001b[1;32mIn[1], line 13\u001b[0m, in \u001b[0;36mdownload_image\u001b[1;34m(genus_dir, media, record, metadata)\u001b[0m\n\u001b[0;32m     11\u001b[0m image_name \u001b[39m=\u001b[39m os\u001b[39m.\u001b[39mpath\u001b[39m.\u001b[39mbasename(image_url\u001b[39m.\u001b[39msplit(\u001b[39m'\u001b[39m\u001b[39m/\u001b[39m\u001b[39m'\u001b[39m)[\u001b[39m-\u001b[39m\u001b[39m1\u001b[39m]) \u001b[39m+\u001b[39m \u001b[39m\"\u001b[39m\u001b[39m.jpg\u001b[39m\u001b[39m\"\u001b[39m  \u001b[39m# Extract the image name from the URL\u001b[39;00m\n\u001b[0;32m     12\u001b[0m image_path \u001b[39m=\u001b[39m os\u001b[39m.\u001b[39mpath\u001b[39m.\u001b[39mjoin(genus_dir, image_name)\n\u001b[1;32m---> 13\u001b[0m \u001b[39mwith\u001b[39;00m \u001b[39mopen\u001b[39m(image_path, \u001b[39m'\u001b[39m\u001b[39mwb\u001b[39m\u001b[39m'\u001b[39m) \u001b[39mas\u001b[39;00m img_file:\n\u001b[0;32m     14\u001b[0m     \u001b[39mfor\u001b[39;00m chunk \u001b[39min\u001b[39;00m response\u001b[39m.\u001b[39miter_content(\u001b[39m1024\u001b[39m):\n\u001b[0;32m     15\u001b[0m         img_file\u001b[39m.\u001b[39mwrite(chunk)\n",
      "File \u001b[1;32mc:\\Users\\newHope\\anaconda3\\Lib\\site-packages\\IPython\\core\\interactiveshell.py:284\u001b[0m, in \u001b[0;36m_modified_open\u001b[1;34m(file, *args, **kwargs)\u001b[0m\n\u001b[0;32m    277\u001b[0m \u001b[39mif\u001b[39;00m file \u001b[39min\u001b[39;00m {\u001b[39m0\u001b[39m, \u001b[39m1\u001b[39m, \u001b[39m2\u001b[39m}:\n\u001b[0;32m    278\u001b[0m     \u001b[39mraise\u001b[39;00m \u001b[39mValueError\u001b[39;00m(\n\u001b[0;32m    279\u001b[0m         \u001b[39mf\u001b[39m\u001b[39m\"\u001b[39m\u001b[39mIPython won\u001b[39m\u001b[39m'\u001b[39m\u001b[39mt let you open fd=\u001b[39m\u001b[39m{\u001b[39;00mfile\u001b[39m}\u001b[39;00m\u001b[39m by default \u001b[39m\u001b[39m\"\u001b[39m\n\u001b[0;32m    280\u001b[0m         \u001b[39m\"\u001b[39m\u001b[39mas it is likely to crash IPython. If you know what you are doing, \u001b[39m\u001b[39m\"\u001b[39m\n\u001b[0;32m    281\u001b[0m         \u001b[39m\"\u001b[39m\u001b[39myou can use builtins\u001b[39m\u001b[39m'\u001b[39m\u001b[39m open.\u001b[39m\u001b[39m\"\u001b[39m\n\u001b[0;32m    282\u001b[0m     )\n\u001b[1;32m--> 284\u001b[0m \u001b[39mreturn\u001b[39;00m io_open(file, \u001b[39m*\u001b[39margs, \u001b[39m*\u001b[39m\u001b[39m*\u001b[39mkwargs)\n",
      "\u001b[1;31mOSError\u001b[0m: [Errno 22] Invalid argument: 'fungi_images\\\\Trametes\\\\web_hent_bilde.php?id=14003513&type=jpeg.jpg'"
     ]
    }
   ],
   "source": [
    "import os\n",
    "import json\n",
    "import requests\n",
    "from concurrent.futures import ThreadPoolExecutor\n",
    "\n",
    "def download_image(genus_dir, media, record, metadata):\n",
    "    image_url = media.get('identifier')\n",
    "    if image_url:\n",
    "        response = requests.get(image_url, stream=True)\n",
    "        if response.status_code == 200:\n",
    "            image_name = os.path.basename(image_url.split('/')[-1]) + \".jpg\"  # Extract the image name from the URL\n",
    "            image_path = os.path.join(genus_dir, image_name)\n",
    "            with open(image_path, 'wb') as img_file:\n",
    "                for chunk in response.iter_content(1024):\n",
    "                    img_file.write(chunk)\n",
    "            \n",
    "            # Add entry to metadata\n",
    "            metadata[image_name] = {\n",
    "                \"family\": record.get('family', \"\"),\n",
    "                \"genus\": record.get('genus', \"\"),\n",
    "                \"species\": record.get('species', \"\"),\n",
    "                \"order\": record.get('order', \"\"),\n",
    "                \"phylum\": record.get('phylum', \"\"),\n",
    "                \"class\": record.get('class', \"\"),\n",
    "                \"kingdom\": record.get('kingdom', \"\")\n",
    "            }\n",
    "\n",
    "# Load the JSON data\n",
    "with open(\"all_data_colombia.json\", \"r\") as file:\n",
    "    data = json.load(file)\n",
    "\n",
    "# Assuming the root of the JSON is a list of records\n",
    "data_to_process = data\n",
    "\n",
    "# Create a root directory for all images if it doesn't exist\n",
    "if not os.path.exists('fungi_images'):\n",
    "    os.mkdir('fungi_images')\n",
    "\n",
    "# Use ThreadPoolExecutor for parallel downloads\n",
    "with ThreadPoolExecutor(max_workers=10) as executor:\n",
    "    # Iterate over each record in the data\n",
    "    for record in data_to_process:\n",
    "        genus_name = record.get('genus', \"unknown_genus\").replace(\" \", \"_\")  # Replace spaces with underscores\n",
    "        media_entries = record.get('media', [])\n",
    "        \n",
    "        # Create a directory for the genus if it doesn't exist\n",
    "        genus_dir = os.path.join('fungi_images', genus_name)\n",
    "        if not os.path.exists(genus_dir):\n",
    "            os.mkdir(genus_dir)\n",
    "        \n",
    "        # Metadata dictionary for the genus\n",
    "        metadata = {}\n",
    "        \n",
    "        # Parallel download of images\n",
    "        futures = [executor.submit(download_image, genus_dir, media, record, metadata) for media in media_entries]\n",
    "        for future in futures:\n",
    "            future.result()\n",
    "        \n",
    "        # Save metadata to JSON file\n",
    "        with open(os.path.join(genus_dir, \"metadata.json\"), \"w\") as meta_file:\n",
    "            json.dump(metadata, meta_file, indent=4)\n",
    "\n",
    "print(\"Images downloaded and metadata files created!\")\n"
   ]
  }
 ],
 "metadata": {
  "kernelspec": {
   "display_name": "base",
   "language": "python",
   "name": "python3"
  },
  "language_info": {
   "codemirror_mode": {
    "name": "ipython",
    "version": 3
   },
   "file_extension": ".py",
   "mimetype": "text/x-python",
   "name": "python",
   "nbconvert_exporter": "python",
   "pygments_lexer": "ipython3",
   "version": "3.11.4"
  },
  "orig_nbformat": 4
 },
 "nbformat": 4,
 "nbformat_minor": 2
}

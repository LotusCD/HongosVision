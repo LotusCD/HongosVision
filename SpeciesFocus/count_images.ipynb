{
 "cells": [
  {
   "cell_type": "code",
   "execution_count": 14,
   "metadata": {},
   "outputs": [
    {
     "name": "stdout",
     "output_type": "stream",
     "text": [
      "             Genus  Image Count\n",
      "0         Cookeina           16\n",
      "1     Leiotrametes            2\n",
      "2         Lentinus            1\n",
      "3       Dacrymyces            1\n",
      "4       Paraisaria            1\n",
      "5          Phallus            1\n",
      "6   Ophiocordyceps            1\n",
      "7        Marasmius            0\n",
      "8      Auricularia            0\n",
      "9      Amauroderma            0\n",
      "10    Cantharellus            0\n",
      "11  Tricholomopsis            0\n",
      "12      Pycnoporus            0\n",
      "13         Favolus            0\n",
      "14       Lentinula            0\n",
      "15  Phaeoclavulina            0\n",
      "16        Gymnopus            0\n",
      "17        Phylacia            0\n",
      "18         Cyathus            0\n",
      "19     Coenogonium            0\n"
     ]
    }
   ],
   "source": [
    "import pandas as pd\n",
    "import json\n",
    "\n",
    "def generate_image_table_updated(filepath):\n",
    "    # Load the data\n",
    "    with open(filepath, 'r') as f:\n",
    "        data = json.load(f)\n",
    "    \n",
    "    # Initialize a dictionary with all unique genera set to zero\n",
    "    genus_image_count = {record[\"genus\"]: 0 for record in data if \"genus\" in record}\n",
    "    \n",
    "    # Traverse the list and check for presence of image\n",
    "    for record in data:\n",
    "        if \"media\" in record and \"genus\" in record:\n",
    "            for media in record[\"media\"]:\n",
    "                if \"identifier\" in media and media[\"identifier\"].endswith(('.jpg', '.jpeg', '.png')):\n",
    "                    genus_image_count[record[\"genus\"]] += 1\n",
    "\n",
    "    # Convert dictionary to a DataFrame\n",
    "    df = pd.DataFrame(sorted(genus_image_count.items(), key=lambda x: x[1], reverse=True), columns=['Genus', 'Image Count'])\n",
    "    \n",
    "    return df\n",
    "\n",
    "# Path to the JSON file\n",
    "filepath = \"all_data_colombia_copy_sample.json\"\n",
    "\n",
    "# Generate and display the table\n",
    "image_table_updated = generate_image_table_updated(filepath)\n",
    "print(image_table_updated)\n",
    "\n",
    "#image_table_updated.to_csv(\"amount_of_genera.csv\", index=False)\n",
    "\n"
   ]
  }
 ],
 "metadata": {
  "kernelspec": {
   "display_name": "base",
   "language": "python",
   "name": "python3"
  },
  "language_info": {
   "codemirror_mode": {
    "name": "ipython",
    "version": 3
   },
   "file_extension": ".py",
   "mimetype": "text/x-python",
   "name": "python",
   "nbconvert_exporter": "python",
   "pygments_lexer": "ipython3",
   "version": "3.11.4"
  },
  "orig_nbformat": 4
 },
 "nbformat": 4,
 "nbformat_minor": 2
}
